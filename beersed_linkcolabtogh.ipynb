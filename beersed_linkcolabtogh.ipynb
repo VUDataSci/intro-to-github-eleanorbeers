{
  "nbformat": 4,
  "nbformat_minor": 0,
  "metadata": {
    "colab": {
      "provenance": [],
      "authorship_tag": "ABX9TyMtyB7sfjEjOvrynMp5NtM1",
      "include_colab_link": true
    },
    "kernelspec": {
      "name": "python3",
      "display_name": "Python 3"
    },
    "language_info": {
      "name": "python"
    }
  },
  "cells": [
    {
      "cell_type": "markdown",
      "metadata": {
        "id": "view-in-github",
        "colab_type": "text"
      },
      "source": [
        "<a href=\"https://colab.research.google.com/github/VUDataSci/intro-to-github-eleanorbeers/blob/first-draft-content/beersed_linkcolabtogh.ipynb\" target=\"_parent\"><img src=\"https://colab.research.google.com/assets/colab-badge.svg\" alt=\"Open In Colab\"/></a>"
      ]
    },
    {
      "cell_type": "code",
      "execution_count": 1,
      "metadata": {
        "colab": {
          "base_uri": "https://localhost:8080/"
        },
        "id": "FrcnMxpc6qkd",
        "outputId": "8b7962da-c245-4a08-b41f-be0bf2d8e8ed"
      },
      "outputs": [
        {
          "output_type": "stream",
          "name": "stdout",
          "text": [
            "Linking my Colab to Github Classroom\n"
          ]
        }
      ],
      "source": [
        "print('Linking my Colab to Github Classroom')"
      ]
    }
  ]
}